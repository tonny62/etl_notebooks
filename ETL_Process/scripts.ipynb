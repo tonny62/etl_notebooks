{
 "cells": [
  {
   "cell_type": "code",
   "execution_count": 5,
   "metadata": {},
   "outputs": [],
   "source": [
    "def getData():\n",
    "    import pickle\n",
    "    with open(\"testdata/jobsdata.pickle\", 'rb') as fin:\n",
    "        data = pickle.load(fin)\n",
    "    return data"
   ]
  },
  {
   "cell_type": "code",
   "execution_count": 8,
   "metadata": {},
   "outputs": [],
   "source": [
    "data = getData()[0]"
   ]
  },
  {
   "cell_type": "code",
   "execution_count": 13,
   "metadata": {},
   "outputs": [
    {
     "name": "stdout",
     "output_type": "stream",
     "text": [
      "{'benef': '',\n",
      " 'company': 'Fame Placement Co., Ltd.',\n",
      " 'desc': 'Location: Thailand, Bangkok\\n'\n",
      "         'Responsibilities:\\n'\n",
      "         '\\n'\n",
      "         'Formulate business development (BD) strategies and develop and '\n",
      "         'manage initiatives to drive company business growth.\\n'\n",
      "         'Manage and ensure full implementation of BD acquisition plans and '\n",
      "         'activities including Asset M&amp;A, Corporate M&amp;A, Farm in, Farm '\n",
      "         'out and Divestment of Development and Production projects as '\n",
      "         'assigned to be in line with Corporate Strategies and Directions.\\n'\n",
      "         'Represent Company to drive BD negotiation and close deal with '\n",
      "         'appropriate BD acquisition value.\\n'\n",
      "         'Ensure that business development projects activities to be '\n",
      "         'implemented in compliance with Project Realization Process (PREP) '\n",
      "         'for business development process.\\n'\n",
      "         'Plan and manage Project hand over activities to asset management '\n",
      "         'function to ensure smooth transition.\\n'\n",
      "         'Lead and manage multidiscipline teams contributing to pursue common '\n",
      "         'goal for business growth.\\n'\n",
      "         'Establish, develop strategic relationship with business counterparts '\n",
      "         '&amp; external entities in global E&amp;P, energy industries and '\n",
      "         'select strategic partners for business expansion.\\n'\n",
      "         '\\n'\n",
      "         'Qualifications:\\n'\n",
      "         '\\n'\n",
      "         'Background of BD from energy industries in Asia.\\n'\n",
      "         'M&amp;A background (pre/during/post due)\\n'\n",
      "         'Strong leadership with .\\n'\n",
      "         '\\n'\n",
      "         '\\n'\n",
      "         '\\n'\n",
      "         '\\n'\n",
      "         'Fame Placement Co., Ltd. 128/340 Payatai Plaza, 31st Fl., Room G, '\n",
      "         'Payathai Rd.,  Toongpayatai, Rajthevee, Bangkok 10400 Tel. 66(0)2 '\n",
      "         '612 9536-8 Fax. 66(0)2 612 9539 More Jobs at FAME please visit: '\n",
      "         'www.fameplacement.com',\n",
      " 'edu': 'ปริญญาโท',\n",
      " 'etype': 'งานเต็มเวลา, งานประจำ',\n",
      " 'func': 'งานขาย งานบริการลูกค้า งานพัฒนาธุรกิจ > งานพัฒนาธุรกิจ\\n'\n",
      "         'งานบริหาร > งานบริหารทั่วไป\\n'\n",
      "         'งานบริหาร > งานผู้บริหารระดับสูง',\n",
      " 'indus': 'ธุรกิจการจัดการทรัพยากรบุคคล ธุรกิจที่ปรึกษาทรัพยากรบุคคล',\n",
      " 'loc': 'กรุงเทพมหานคร',\n",
      " 'object_id': 'jobsdb_20180512_000000',\n",
      " 'other': None,\n",
      " 'pdate': '05-May-18',\n",
      " 'pos': 'VP. Business Development (Energy)',\n",
      " 'sal': 'เงินเดือนสามารถต่อรองได้'}\n"
     ]
    }
   ],
   "source": [
    "import pprint\n",
    "pp = pprint.PrettyPrinter().pprint\n",
    "pp(data)"
   ]
  },
  {
   "cell_type": "code",
   "execution_count": null,
   "metadata": {},
   "outputs": [],
   "source": []
  }
 ],
 "metadata": {
  "kernelspec": {
   "display_name": "Python 3",
   "language": "python",
   "name": "python3"
  },
  "language_info": {
   "codemirror_mode": {
    "name": "ipython",
    "version": 3
   },
   "file_extension": ".py",
   "mimetype": "text/x-python",
   "name": "python",
   "nbconvert_exporter": "python",
   "pygments_lexer": "ipython3",
   "version": "3.6.4"
  }
 },
 "nbformat": 4,
 "nbformat_minor": 2
}
